{
 "cells": [
  {
   "cell_type": "code",
   "execution_count": 1,
   "metadata": {},
   "outputs": [
    {
     "name": "stderr",
     "output_type": "stream",
     "text": [
      "Using TensorFlow backend.\n"
     ]
    }
   ],
   "source": [
    "import keras\n",
    "from keras.datasets import mnist\n",
    "from keras.models import Sequential\n",
    "from keras.layers import Conv2D, Activation, MaxPooling2D, Flatten, Dense\n",
    "import numpy as np\n",
    "from sklearn.model_selection import train_test_split\n",
    "from sklearn import metrics\n",
    "import matplotlib.pyplot as plt"
   ]
  },
  {
   "cell_type": "code",
   "execution_count": 2,
   "metadata": {},
   "outputs": [],
   "source": [
    "#Load MNIST data\n",
    "(x_train, y_train), (x_rest, y_rest) = mnist.load_data()"
   ]
  },
  {
   "cell_type": "code",
   "execution_count": 3,
   "metadata": {},
   "outputs": [
    {
     "name": "stdout",
     "output_type": "stream",
     "text": [
      "Data left for testing (10000, 28, 28)\n"
     ]
    }
   ],
   "source": [
    "# Data other than training\n",
    "print('Data left for testing',x_rest.shape)"
   ]
  },
  {
   "cell_type": "code",
   "execution_count": 4,
   "metadata": {},
   "outputs": [],
   "source": [
    "#Extracting test and validation data from the remaining data\n",
    "x_val, x_test, y_val, y_test = train_test_split(\n",
    "    x_rest, y_rest, test_size=0.3, random_state=0)"
   ]
  },
  {
   "cell_type": "code",
   "execution_count": 5,
   "metadata": {},
   "outputs": [
    {
     "name": "stdout",
     "output_type": "stream",
     "text": [
      "Validation data shape (7000, 28, 28)\n",
      "Test data shape (3000, 28, 28)\n"
     ]
    }
   ],
   "source": [
    "print('Validation data shape',x_val.shape)\n",
    "print('Test data shape',x_test.shape)"
   ]
  },
  {
   "cell_type": "code",
   "execution_count": 6,
   "metadata": {},
   "outputs": [],
   "source": [
    "#Use 'Shape' to retrieve number of samples in training, validation and testing\n",
    "\n",
    "train_samples = x_train.shape[0]\n",
    "test_samples = x_test.shape[0]\n",
    "val_samples = x_val.shape[0]\n",
    "\n",
    "#Input reshape. The model expects an input with 4 dimensions.\n",
    "#Reshape your data to (n_images, x_shape, y_shape, n_channels).\n",
    "x_train = x_train.reshape(train_samples,28,28,1)\n",
    "x_val = x_val.reshape(val_samples,28,28,1)\n",
    "x_test = x_test.reshape(test_samples,28,28,1)"
   ]
  },
  {
   "cell_type": "code",
   "execution_count": 7,
   "metadata": {},
   "outputs": [
    {
     "data": {
      "text/plain": [
       "array([5, 0, 4, ..., 5, 6, 8], dtype=uint8)"
      ]
     },
     "execution_count": 7,
     "metadata": {},
     "output_type": "execute_result"
    }
   ],
   "source": [
    "y_train"
   ]
  },
  {
   "cell_type": "code",
   "execution_count": 8,
   "metadata": {},
   "outputs": [
    {
     "name": "stdout",
     "output_type": "stream",
     "text": [
      "Number of unique classes {0, 1, 2, 3, 4, 5, 6, 7, 8, 9}\n",
      "Number of classes 10\n"
     ]
    }
   ],
   "source": [
    "num_unique_classes = set(y_train)\n",
    "print('Number of unique classes', num_unique_classes)\n",
    "num_classes = len(num_unique_classes)\n",
    "print('Number of classes', num_classes)"
   ]
  },
  {
   "cell_type": "code",
   "execution_count": 9,
   "metadata": {},
   "outputs": [
    {
     "name": "stdout",
     "output_type": "stream",
     "text": [
      "Image width 28\n",
      "Image Height 28\n",
      "training encoded colums (60000,)\n"
     ]
    }
   ],
   "source": [
    "# input image dimensions\n",
    "img_rows, img_cols = x_train.shape[1], x_train.shape[2]\n",
    "print('Image width', img_rows)\n",
    "print('Image Height', img_cols)\n",
    "\n",
    "# convert class vectors to binary class matrices\n",
    "y_train_enc = keras.utils.to_categorical(y_train, num_classes)\n",
    "print('training encoded colums', y_train.shape)\n",
    "y_val_enc = keras.utils.to_categorical(y_val, num_classes)\n",
    "y_test_enc = keras.utils.to_categorical(y_test, num_classes)"
   ]
  },
  {
   "cell_type": "markdown",
   "metadata": {},
   "source": [
    "# Build CNN model"
   ]
  },
  {
   "cell_type": "markdown",
   "metadata": {},
   "source": [
    "1. Build Keras sequential models which is a linear stack of layers. Refer the link to know how to initialize a  \n",
    "   sequential model https://keras.io/getting-started/sequential-model-guide/\n",
    "        \n",
    "2. Model Structure. use `add` to add layers to the above created sequential model.\n",
    "   \n",
    "       - 1st convolutional layer : Kernal 3x3 , 32 filters , 'relu' activation and provide input shape so that \n",
    "                             model will know what input it should expect.\n",
    "                \n",
    "       - Max pooling layer : 2x2 maxpooling window https://keras.io/layers/pooling/\n",
    "       \n",
    "       - 2nd convolutional layer : Kernal 3x3 , 64 filters and 'relu' activation.\n",
    "       \n",
    "       - Max pooling layer : 2x2 maxpooling window https://keras.io/layers/pooling/\n",
    "                         \n",
    "       - Flatten the layers. Refer section 'Flatten' to know about https://keras.io/layers/core/\n",
    "   \n",
    "       - Dense layer with 100 neurons and activation `relu`. https://keras.io/layers/core/\n",
    "   \n",
    "       - Final dense layers with neurons equal to `num_classes` with `softmax` activation.         \n",
    "         https://keras.io/layers/core/\n",
    "   "
   ]
  },
  {
   "cell_type": "code",
   "execution_count": 10,
   "metadata": {},
   "outputs": [
    {
     "name": "stdout",
     "output_type": "stream",
     "text": [
      "WARNING:tensorflow:From /Users/saishruthi.tn@ibm.com/anaconda3/envs/cp/lib/python3.7/site-packages/tensorflow/python/framework/op_def_library.py:263: colocate_with (from tensorflow.python.framework.ops) is deprecated and will be removed in a future version.\n",
      "Instructions for updating:\n",
      "Colocations handled automatically by placer.\n"
     ]
    }
   ],
   "source": [
    "model = Sequential()\n",
    "model.add(Conv2D(32, kernel_size=(3, 3),\n",
    "                 activation='relu',\n",
    "                 input_shape=(28,28,1)))\n",
    "model.add(MaxPooling2D(pool_size=(2, 2)))\n",
    "model.add(Conv2D(64, (3, 3), activation='relu'))\n",
    "model.add(MaxPooling2D(pool_size=(2, 2)))\n",
    "model.add(Flatten())\n",
    "model.add(Dense(50, activation='relu'))\n",
    "model.add(Dense(num_classes, activation='softmax'))"
   ]
  },
  {
   "cell_type": "code",
   "execution_count": 11,
   "metadata": {},
   "outputs": [
    {
     "name": "stdout",
     "output_type": "stream",
     "text": [
      "_________________________________________________________________\n",
      "Layer (type)                 Output Shape              Param #   \n",
      "=================================================================\n",
      "conv2d_1 (Conv2D)            (None, 26, 26, 32)        320       \n",
      "_________________________________________________________________\n",
      "max_pooling2d_1 (MaxPooling2 (None, 13, 13, 32)        0         \n",
      "_________________________________________________________________\n",
      "conv2d_2 (Conv2D)            (None, 11, 11, 64)        18496     \n",
      "_________________________________________________________________\n",
      "max_pooling2d_2 (MaxPooling2 (None, 5, 5, 64)          0         \n",
      "_________________________________________________________________\n",
      "flatten_1 (Flatten)          (None, 1600)              0         \n",
      "_________________________________________________________________\n",
      "dense_1 (Dense)              (None, 50)                80050     \n",
      "_________________________________________________________________\n",
      "dense_2 (Dense)              (None, 10)                510       \n",
      "=================================================================\n",
      "Total params: 99,376\n",
      "Trainable params: 99,376\n",
      "Non-trainable params: 0\n",
      "_________________________________________________________________\n"
     ]
    }
   ],
   "source": [
    "model.summary()"
   ]
  },
  {
   "cell_type": "markdown",
   "metadata": {},
   "source": [
    "<img src=\"https://github.com/SSaishruthi/Scale17x/raw/master/docs/CNN.jpg\" width=\"800\" />"
   ]
  },
  {
   "cell_type": "markdown",
   "metadata": {},
   "source": [
    "<img src=\"https://github.com/SSaishruthi/Scale17x/raw/master/docs/Parameters.jpg\" width=\"800\" />"
   ]
  },
  {
   "cell_type": "code",
   "execution_count": 12,
   "metadata": {},
   "outputs": [
    {
     "name": "stdout",
     "output_type": "stream",
     "text": [
      "WARNING:tensorflow:From /Users/saishruthi.tn@ibm.com/anaconda3/envs/cp/lib/python3.7/site-packages/tensorflow/python/ops/math_ops.py:3066: to_int32 (from tensorflow.python.ops.math_ops) is deprecated and will be removed in a future version.\n",
      "Instructions for updating:\n",
      "Use tf.cast instead.\n",
      "Train on 60000 samples, validate on 7000 samples\n",
      "Epoch 1/1\n",
      "60000/60000 [==============================] - 19s 316us/step - loss: 6.0216 - acc: 0.5965 - val_loss: 0.0827 - val_acc: 0.9723\n"
     ]
    },
    {
     "data": {
      "text/plain": [
       "<keras.callbacks.History at 0x1a29382208>"
      ]
     },
     "execution_count": 12,
     "metadata": {},
     "output_type": "execute_result"
    }
   ],
   "source": [
    "epochs = 1\n",
    "batch_size = 128\n",
    "\n",
    "model.compile(loss=keras.losses.categorical_crossentropy,\n",
    "              optimizer=keras.optimizers.Adadelta(),\n",
    "              metrics=['accuracy'])\n",
    "\n",
    "model.fit(x_train, y_train_enc,\n",
    "          batch_size=batch_size,\n",
    "          epochs=epochs,\n",
    "          verbose=1,\n",
    "          validation_data=(x_val, y_val_enc))"
   ]
  },
  {
   "cell_type": "code",
   "execution_count": 13,
   "metadata": {},
   "outputs": [],
   "source": [
    "pred = model.predict(x_test)"
   ]
  },
  {
   "cell_type": "code",
   "execution_count": 14,
   "metadata": {},
   "outputs": [],
   "source": [
    "predicted=[]\n",
    "for i in pred:\n",
    "    predicted.append(np.argmax(i))"
   ]
  },
  {
   "cell_type": "code",
   "execution_count": 15,
   "metadata": {},
   "outputs": [
    {
     "name": "stdout",
     "output_type": "stream",
     "text": [
      "Test error is: 2.799999999999997\n"
     ]
    }
   ],
   "source": [
    "print(\"Test error is:\",100-round(metrics.accuracy_score(y_test,predicted)*100,2))"
   ]
  },
  {
   "cell_type": "code",
   "execution_count": 16,
   "metadata": {},
   "outputs": [],
   "source": [
    "misclassified_sample = []\n",
    "index = 0\n",
    "for actual, predict in zip(y_test, predicted):\n",
    "    if actual != predict:\n",
    "        misclassified_sample.append(index)\n",
    "    index += 1"
   ]
  },
  {
   "cell_type": "code",
   "execution_count": 17,
   "metadata": {},
   "outputs": [
    {
     "data": {
      "image/png": "[encoded data removed]",
      "text/plain": [
       "<Figure size 2160x360 with 10 Axes>"
      ]
     },
     "metadata": {
      "needs_background": "light"
     },
     "output_type": "display_data"
    }
   ],
   "source": [
    "plt.figure(figsize=(30,5))\n",
    "for index, fail_index in enumerate(misclassified_sample[0:10]):\n",
    "    plt.subplot(1, 10, index + 1)\n",
    "    plt.imshow(np.reshape(x_test[fail_index], (28,28)), cmap='gray')\n",
    "    plt.title('Predicted: {}, Actual: {}'.format(predicted[fail_index], y_test[fail_index]), fontsize = 15)"
   ]
  },
  {
   "cell_type": "code",
   "execution_count": null,
   "metadata": {},
   "outputs": [],
   "source": []
  }
 ],
 "metadata": {
  "kernelspec": {
   "display_name": "Python 3",
   "language": "python",
   "name": "python3"
  }
 },
 "nbformat": 4,
 "nbformat_minor": 2
}
