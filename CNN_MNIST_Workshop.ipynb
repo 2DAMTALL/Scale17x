{
 "cells": [
  {
   "cell_type": "code",
   "execution_count": null,
   "metadata": {},
   "outputs": [],
   "source": [
    "import keras\n",
    "from keras.datasets import mnist\n",
    "from keras.models import Sequential\n",
    "from keras.layers import Conv2D, Activation, MaxPooling2D, Flatten, Dense\n",
    "import numpy as np\n",
    "from sklearn.model_selection import train_test_split\n",
    "from sklearn import metrics\n",
    "import matplotlib.pyplot as plt"
   ]
  },
  {
   "cell_type": "code",
   "execution_count": null,
   "metadata": {},
   "outputs": [],
   "source": [
    "#Load MNIST data\n",
    "(x_train, y_train), (x_rest, y_rest) = mnist.load_data()"
   ]
  },
  {
   "cell_type": "code",
   "execution_count": null,
   "metadata": {},
   "outputs": [],
   "source": [
    "# Data other than training\n",
    "print('Data left for testing',x_rest.shape)"
   ]
  },
  {
   "cell_type": "code",
   "execution_count": null,
   "metadata": {},
   "outputs": [],
   "source": [
    "#Extracting test and validation data from the remaining data\n",
    "x_val, x_test, y_val, y_test = train_test_split(\n",
    "    x_rest, y_rest, test_size=0.3, random_state=0)"
   ]
  },
  {
   "cell_type": "code",
   "execution_count": null,
   "metadata": {},
   "outputs": [],
   "source": [
    "print('Validation data shape',x_val.shape)\n",
    "print('Test data shape',x_test.shape)"
   ]
  },
  {
   "cell_type": "code",
   "execution_count": null,
   "metadata": {},
   "outputs": [],
   "source": [
    "#Use 'Shape' to retrieve number of samples in training, validation and testing\n",
    "\n",
    "train_samples = x_train.shape[0]\n",
    "test_samples = x_test.shape[0]\n",
    "val_samples = x_val.shape[0]\n",
    "\n",
    "#Input reshape. The model expects an input with 4 dimensions.\n",
    "#Reshape your data to (n_images, x_shape, y_shape, n_channels).\n",
    "x_train = x_train.reshape(train_samples,28,28,1)\n",
    "x_val = x_val.reshape(val_samples,28,28,1)\n",
    "x_test = x_test.reshape(test_samples,28,28,1)"
   ]
  },
  {
   "cell_type": "code",
   "execution_count": null,
   "metadata": {},
   "outputs": [],
   "source": [
    "y_train"
   ]
  },
  {
   "cell_type": "code",
   "execution_count": null,
   "metadata": {},
   "outputs": [],
   "source": [
    "num_unique_classes = set(y_train)\n",
    "print('Number of unique classes', num_unique_classes)\n",
    "num_classes = len(num_unique_classes)\n",
    "print('Number of classes', num_classes)"
   ]
  },
  {
   "cell_type": "code",
   "execution_count": null,
   "metadata": {},
   "outputs": [],
   "source": [
    "# input image dimensions\n",
    "img_rows, img_cols = x_train.shape[1], x_train.shape[2]\n",
    "print('Image width', img_rows)\n",
    "print('Image Height', img_cols)\n",
    "\n",
    "# convert class vectors to binary class matrices\n",
    "y_train_enc = keras.utils.to_categorical(y_train, num_classes)\n",
    "print('training encoded colums', y_train.shape)\n",
    "y_val_enc = keras.utils.to_categorical(y_val, num_classes)\n",
    "y_test_enc = keras.utils.to_categorical(y_test, num_classes)"
   ]
  },
  {
   "cell_type": "markdown",
   "metadata": {},
   "source": [
    "# Build CNN model"
   ]
  },
  {
   "cell_type": "markdown",
   "metadata": {},
   "source": [
    "1. Build Keras sequential models which is a linear stack of layers. Refer the link to know how to initialize a  \n",
    "   sequential model https://keras.io/getting-started/sequential-model-guide/\n",
    "        \n",
    "2. Model Structure. use `add` to add layers to the above created sequential model.\n",
    "   \n",
    "       - 1st convolutional layer : Kernal 3x3 , 32 filters , 'relu' activation and provide input shape so that \n",
    "                             model will know what input it should expect.\n",
    "                \n",
    "       - Max pooling layer : 2x2 maxpooling window https://keras.io/layers/pooling/\n",
    "       \n",
    "       - 2nd convolutional layer : Kernal 3x3 , 64 filters and 'relu' activation.\n",
    "       \n",
    "       - Max pooling layer : 2x2 maxpooling window https://keras.io/layers/pooling/\n",
    "                         \n",
    "       - Flatten the layers. Refer section 'Flatten' to know about https://keras.io/layers/core/\n",
    "   \n",
    "       - Dense layer with 100 neurons and activation `relu`. https://keras.io/layers/core/\n",
    "   \n",
    "       - Final dense layers with neurons equal to `num_classes` with `softmax` activation.         \n",
    "         https://keras.io/layers/core/\n",
    "   "
   ]
  },
  {
   "cell_type": "code",
   "execution_count": null,
   "metadata": {},
   "outputs": [],
   "source": [
    "#### FILL THE SOLUTION  and use the below cell to verify the model structure ###"
   ]
  },
  {
   "cell_type": "code",
   "execution_count": null,
   "metadata": {},
   "outputs": [],
   "source": [
    "model.summary()"
   ]
  },
  {
   "cell_type": "code",
   "execution_count": null,
   "metadata": {},
   "outputs": [],
   "source": [
    "epochs = 1\n",
    "batch_size = 128\n",
    "\n",
    "model.compile(loss=keras.losses.categorical_crossentropy,\n",
    "              optimizer=keras.optimizers.Adadelta(),\n",
    "              metrics=['accuracy'])\n",
    "\n",
    "model.fit(x_train, y_train_enc,\n",
    "          batch_size=batch_size,\n",
    "          epochs=epochs,\n",
    "          verbose=1,\n",
    "          validation_data=(x_val, y_val_enc))"
   ]
  },
  {
   "cell_type": "code",
   "execution_count": null,
   "metadata": {},
   "outputs": [],
   "source": [
    "## Predit for test input ###"
   ]
  },
  {
   "cell_type": "code",
   "execution_count": null,
   "metadata": {},
   "outputs": [],
   "source": [
    "predicted=[]\n",
    "for i in pred:\n",
    "    predicted.append(np.argmax(i))"
   ]
  },
  {
   "cell_type": "code",
   "execution_count": null,
   "metadata": {},
   "outputs": [],
   "source": [
    "print(\"Test error is:\",100-round(metrics.accuracy_score(y_test,predicted)*100,2))"
   ]
  },
  {
   "cell_type": "code",
   "execution_count": null,
   "metadata": {},
   "outputs": [],
   "source": [
    "misclassified_sample = []\n",
    "index = 0\n",
    "for actual, predict in zip(y_test, predicted):\n",
    "    if actual != predict:\n",
    "        misclassified_sample.append(index)\n",
    "    index += 1"
   ]
  },
  {
   "cell_type": "code",
   "execution_count": null,
   "metadata": {},
   "outputs": [],
   "source": [
    "plt.figure(figsize=(30,5))\n",
    "for index, fail_index in enumerate(misclassified_sample[0:10]):\n",
    "    plt.subplot(1, 10, index + 1)\n",
    "    plt.imshow(np.reshape(x_test[fail_index], (28,28)), cmap='gray')\n",
    "    plt.title('Predicted: {}, Actual: {}'.format(predicted[fail_index], y_test[fail_index]), fontsize = 15)"
   ]
  },
  {
   "cell_type": "code",
   "execution_count": null,
   "metadata": {},
   "outputs": [],
   "source": []
  }
 ],
 "metadata": {
  "kernelspec": {
   "display_name": "Python 3",
   "language": "python",
   "name": "python3"
  }
 },
 "nbformat": 4,
 "nbformat_minor": 2
}
